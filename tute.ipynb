{
 "cells": [
  {
   "cell_type": "code",
   "execution_count": null,
   "id": "dfed71f7",
   "metadata": {},
   "outputs": [],
   "source": []
  },
  {
   "cell_type": "code",
   "execution_count": null,
   "id": "b8a78c9b",
   "metadata": {},
   "outputs": [],
   "source": [
    "N = 6377\n",
    "λ = 3.6 * 10^-4\n",
    "rev = 7.9e6/λ\n",
    "r = 4\n",
    "mttf = 1"
   ]
  }
 ],
 "metadata": {
  "language_info": {
   "name": "python"
  }
 },
 "nbformat": 4,
 "nbformat_minor": 5
}
