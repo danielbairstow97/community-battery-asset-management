{
 "cells": [
  {
   "cell_type": "code",
   "execution_count": null,
   "id": "b7c3c7dd",
   "metadata": {},
   "outputs": [],
   "source": [
    "\n",
    "import numpy as np\n",
    "import pybamm\n",
    "\n",
    "import gurobipy as gp\n",
    "import pandas as pd\n",
    "\n",
    "from nemosis import dynamic_data_compiler\n",
    "from blast import models, utils\n"
   ]
  },
  {
   "cell_type": "code",
   "execution_count": null,
   "id": "cb497a15",
   "metadata": {},
   "outputs": [],
   "source": []
  },
  {
   "cell_type": "code",
   "execution_count": null,
   "id": "0178f373",
   "metadata": {},
   "outputs": [],
   "source": []
  },
  {
   "cell_type": "code",
   "execution_count": 1,
   "id": "3b0cdb2d",
   "metadata": {},
   "outputs": [],
   "source": [
    "\n",
    "import pandas as pd\n",
    "import numpy as np\n",
    "\n",
    "schedule = pd.read_csv(\"schedule_year1.csv\")\n",
    "schedule[\"Time_s\"] = schedule.index * 5 * 60\n",
    "schedule[\"temperature_C\"] = 25\n",
    "data = {\n",
    "    \"Time_s\": schedule[\"Time_s\"].to_numpy(),\n",
    "    \"SOC\": schedule[\"SOC_%\"].to_numpy(),\n",
    "    \"Temperature_C\": np.repeat([25], len(schedule))\n",
    "}\n",
    "\n",
    "# results = simulate_battery(schedule)"
   ]
  },
  {
   "cell_type": "code",
   "execution_count": 29,
   "id": "f80a15cf",
   "metadata": {},
   "outputs": [],
   "source": [
    "from blast import models\n",
    "dt = 5/60.0\n",
    "data = {\n",
    "    \"Time_s\": schedule[\"Time_s\"].to_numpy(),\n",
    "    \"SOC\": schedule[\"SOC_%\"].to_numpy(),\n",
    "    \"Temperature_C\": schedule[\"temperature_C\"].to_numpy()\n",
    "}\n",
    "batt = models.Lfp_Gr_250AhPrismatic(degradation_scalar=1.1901)\n",
    "batt.simulate_battery_life(data, threshold_capacity=0.7, is_conserve_energy_throughput=False)\n",
    "\n",
    "dSOC = schedule['SOC'].diff().fillna(0)\n",
    "efc = 0.5 * dSOC.abs().sum() * ((365*24*3600) / data['Time_s'][-1])\n",
    "\n",
    "batt_soc = batt.stressors['soc'][1:]\n",
    "soc = batt_soc.tolist()\n",
    "batt_dod = batt.stressors['dod'][1:]\n",
    "dod = batt_dod.tolist()\n",
    "efc_subcycle = batt.stressors['delta_efc'][1:].tolist()\n",
    "t_subcycle = batt.stressors['delta_t_days'][1:].tolist()\n",
    "dod_rms =  np.sqrt(np.mean(batt_dod**2))\n",
    "dod_median = np.median(batt_dod)\n",
    "dod_95 = np.percentile(batt_dod, 95)\n",
    "soc_mean = np.mean(batt_soc)\n",
    "soc_median = np.median(batt_soc)\n",
    "\n",
    "results = pd.DataFrame({\n",
    "    \"Relative Capacity\": batt.outputs['q'],\n",
    "    \"EFC\": batt.stressors[\"efc\"],\n",
    "    \"T (Days)\": batt.stressors['t_days'],\n",
    "})\n",
    "\n",
    "\n",
    "summary = {\n",
    "    'EFCs/year': [efc],\n",
    "    'Mean SOC': [soc_mean],\n",
    "    'Median SOC': [soc_median],\n",
    "    'DOD RMS': [dod_rms],\n",
    "    'Median DOD': [dod_median],\n",
    "    'DOD 95th percentile': [dod_95],\n",
    "    \"Lifetime\": [batt.stressors['t_days'][-1]]\n",
    "}\n",
    "\n",
    "\n",
    "# Convert degradation time to seconds to match the dispatch dataframe\n",
    "df_deg = results.copy()\n",
    "df_disp = schedule.copy()\n",
    "df_deg[\"Time_s\"] = df_deg[\"T (Days)\"] * 24 * 3600  # convert days → seconds\n",
    "\n",
    "# 2. Determine total simulated lifetime in seconds (until 0.7 SoH)\n",
    "lifetime_s = df_deg[\"Time_s\"].iloc[-1]  # e.g., 3294 days → ~284 million seconds\n",
    "\n",
    "# 3. Find how long one dispatch cycle lasts\n",
    "period_s = df_disp[\"Time_s\"].iloc[-1]  # duration of one dispatch cycle\n",
    "\n",
    "# 4. Compute how many repeats needed to reach the lifetime duration\n",
    "n_repeats = int(np.ceil(lifetime_s / period_s))\n",
    "\n",
    "# 5. Repeat the dispatch schedule\n",
    "df_disp = pd.concat(\n",
    "    [df_disp.assign(Time_s=df_disp[\"Time_s\"] + i * (period_s + df_disp[\"Time_s\"].iloc[1]))\n",
    "     for i in range(n_repeats)],\n",
    "    ignore_index=True\n",
    ")\n",
    "\n",
    "# Interpolate the relative capacity to the dispatch time base\n",
    "df_disp[\"Relative Capacity\"] = np.interp(\n",
    "    df_disp[\"Time_s\"],\n",
    "    df_deg[\"Time_s\"],\n",
    "    df_deg[\"Relative Capacity\"]\n",
    ")\n",
    "df_disp[\"EFC\"] = np.interp(\n",
    "    df_disp[\"Time_s\"],\n",
    "    df_deg[\"Time_s\"],\n",
    "    df_deg[\"EFC\"]\n",
    ")\n",
    "\n",
    "# Optional: compute degraded net power (useful for lifetime revenue estimation)\n",
    "df_disp[\"degraded_P_net\"] = df_disp[\"P_net\"] * df_disp[\"Relative Capacity\"]\n",
    "df_disp[\"degraded_P_chg\"] = -df_disp[\"P_net\"].clip(upper=0)\n",
    "df_disp[\"degraded_P_dis\"] = df_disp[\"P_net\"].clip(lower=0)\n",
    "\n",
    "# Optional: compute revenue\n",
    "df_disp[\"revenue\"] = df_disp[\"degraded_P_net\"] * dt / 1000 * df_disp[\"price\"]\n",
    "df_disp[\"Datetime\"] = pd.to_datetime(pd.Timestamp(\"2025-01-01 00:00:00\") + pd.to_timedelta(df_disp[\"Time_s\"], unit=\"s\"))\n",
    "df_disp = df_disp.drop(columns=[\"P_charge\", \"P_discharge\", \"P_net\"])\n",
    "\n",
    "daily_results = df_disp.groupby(df_disp[\"Datetime\"].dt.date).aggregate({\n",
    "    \"revenue\": \"sum\",\n",
    "    \"EFC\": \"last\",\n",
    "    \"degraded_P_dis\": \"sum\",\n",
    "    \"degraded_P_chg\": \"sum\",\n",
    "    \"Relative Capacity\": \"last\"\n",
    "})\n",
    "\n",
    "yearly_results = df_disp.groupby(df_disp[\"Datetime\"].dt.year).aggregate({\n",
    "    \"revenue\": \"sum\",\n",
    "    \"EFC\": \"last\",\n",
    "    \"degraded_P_dis\": \"sum\",\n",
    "    \"degraded_P_chg\": \"sum\",\n",
    "    \"Relative Capacity\": \"last\"\n",
    "})\n",
    "\n",
    "summary[\"Lifetime Value\"] = df_disp[\"revenue\"].sum()\n"
   ]
  },
  {
   "cell_type": "code",
   "execution_count": 31,
   "id": "a3367df5",
   "metadata": {},
   "outputs": [
    {
     "data": {
      "text/html": [
       "<div>\n",
       "<style scoped>\n",
       "    .dataframe tbody tr th:only-of-type {\n",
       "        vertical-align: middle;\n",
       "    }\n",
       "\n",
       "    .dataframe tbody tr th {\n",
       "        vertical-align: top;\n",
       "    }\n",
       "\n",
       "    .dataframe thead th {\n",
       "        text-align: right;\n",
       "    }\n",
       "</style>\n",
       "<table border=\"1\" class=\"dataframe\">\n",
       "  <thead>\n",
       "    <tr style=\"text-align: right;\">\n",
       "      <th></th>\n",
       "      <th>revenue</th>\n",
       "      <th>EFC</th>\n",
       "      <th>degraded_P_dis</th>\n",
       "      <th>degraded_P_chg</th>\n",
       "      <th>Relative Capacity</th>\n",
       "    </tr>\n",
       "    <tr>\n",
       "      <th>Datetime</th>\n",
       "      <th></th>\n",
       "      <th></th>\n",
       "      <th></th>\n",
       "      <th></th>\n",
       "      <th></th>\n",
       "    </tr>\n",
       "  </thead>\n",
       "  <tbody>\n",
       "    <tr>\n",
       "      <th>2025-01-01</th>\n",
       "      <td>22.391957</td>\n",
       "      <td>3.227208</td>\n",
       "      <td>8865.805647</td>\n",
       "      <td>9041.108017</td>\n",
       "      <td>0.998931</td>\n",
       "    </tr>\n",
       "    <tr>\n",
       "      <th>2025-01-02</th>\n",
       "      <td>21.050212</td>\n",
       "      <td>6.107690</td>\n",
       "      <td>7761.872683</td>\n",
       "      <td>8386.165866</td>\n",
       "      <td>0.998359</td>\n",
       "    </tr>\n",
       "    <tr>\n",
       "      <th>2025-01-03</th>\n",
       "      <td>45.626252</td>\n",
       "      <td>8.109716</td>\n",
       "      <td>5429.070697</td>\n",
       "      <td>4930.521089</td>\n",
       "      <td>0.997998</td>\n",
       "    </tr>\n",
       "    <tr>\n",
       "      <th>2025-01-04</th>\n",
       "      <td>36.655069</td>\n",
       "      <td>10.882895</td>\n",
       "      <td>7429.232402</td>\n",
       "      <td>8116.511734</td>\n",
       "      <td>0.997599</td>\n",
       "    </tr>\n",
       "    <tr>\n",
       "      <th>2025-01-05</th>\n",
       "      <td>32.543697</td>\n",
       "      <td>14.044320</td>\n",
       "      <td>7902.056728</td>\n",
       "      <td>8211.296317</td>\n",
       "      <td>0.997150</td>\n",
       "    </tr>\n",
       "    <tr>\n",
       "      <th>...</th>\n",
       "      <td>...</td>\n",
       "      <td>...</td>\n",
       "      <td>...</td>\n",
       "      <td>...</td>\n",
       "      <td>...</td>\n",
       "    </tr>\n",
       "    <tr>\n",
       "      <th>2034-01-04</th>\n",
       "      <td>39.487613</td>\n",
       "      <td>7593.695642</td>\n",
       "      <td>5520.967034</td>\n",
       "      <td>6218.027980</td>\n",
       "      <td>0.700225</td>\n",
       "    </tr>\n",
       "    <tr>\n",
       "      <th>2034-01-05</th>\n",
       "      <td>41.521451</td>\n",
       "      <td>7596.138602</td>\n",
       "      <td>4841.619936</td>\n",
       "      <td>5123.464673</td>\n",
       "      <td>0.700152</td>\n",
       "    </tr>\n",
       "    <tr>\n",
       "      <th>2034-01-06</th>\n",
       "      <td>24.678543</td>\n",
       "      <td>7598.373895</td>\n",
       "      <td>8838.173343</td>\n",
       "      <td>8862.624433</td>\n",
       "      <td>0.700085</td>\n",
       "    </tr>\n",
       "    <tr>\n",
       "      <th>2034-01-07</th>\n",
       "      <td>28.137632</td>\n",
       "      <td>7600.763257</td>\n",
       "      <td>6373.702902</td>\n",
       "      <td>7008.071602</td>\n",
       "      <td>0.700010</td>\n",
       "    </tr>\n",
       "    <tr>\n",
       "      <th>2034-01-08</th>\n",
       "      <td>20.505023</td>\n",
       "      <td>7601.683008</td>\n",
       "      <td>4582.219033</td>\n",
       "      <td>3051.770536</td>\n",
       "      <td>0.699979</td>\n",
       "    </tr>\n",
       "  </tbody>\n",
       "</table>\n",
       "<p>3295 rows × 5 columns</p>\n",
       "</div>"
      ],
      "text/plain": [
       "              revenue          EFC  degraded_P_dis  degraded_P_chg  \\\n",
       "Datetime                                                             \n",
       "2025-01-01  22.391957     3.227208     8865.805647     9041.108017   \n",
       "2025-01-02  21.050212     6.107690     7761.872683     8386.165866   \n",
       "2025-01-03  45.626252     8.109716     5429.070697     4930.521089   \n",
       "2025-01-04  36.655069    10.882895     7429.232402     8116.511734   \n",
       "2025-01-05  32.543697    14.044320     7902.056728     8211.296317   \n",
       "...               ...          ...             ...             ...   \n",
       "2034-01-04  39.487613  7593.695642     5520.967034     6218.027980   \n",
       "2034-01-05  41.521451  7596.138602     4841.619936     5123.464673   \n",
       "2034-01-06  24.678543  7598.373895     8838.173343     8862.624433   \n",
       "2034-01-07  28.137632  7600.763257     6373.702902     7008.071602   \n",
       "2034-01-08  20.505023  7601.683008     4582.219033     3051.770536   \n",
       "\n",
       "            Relative Capacity  \n",
       "Datetime                       \n",
       "2025-01-01           0.998931  \n",
       "2025-01-02           0.998359  \n",
       "2025-01-03           0.997998  \n",
       "2025-01-04           0.997599  \n",
       "2025-01-05           0.997150  \n",
       "...                       ...  \n",
       "2034-01-04           0.700225  \n",
       "2034-01-05           0.700152  \n",
       "2034-01-06           0.700085  \n",
       "2034-01-07           0.700010  \n",
       "2034-01-08           0.699979  \n",
       "\n",
       "[3295 rows x 5 columns]"
      ]
     },
     "execution_count": 31,
     "metadata": {},
     "output_type": "execute_result"
    }
   ],
   "source": [
    "daily_results"
   ]
  },
  {
   "cell_type": "code",
   "execution_count": 30,
   "id": "262b377e",
   "metadata": {},
   "outputs": [
    {
     "data": {
      "text/html": [
       "<div>\n",
       "<style scoped>\n",
       "    .dataframe tbody tr th:only-of-type {\n",
       "        vertical-align: middle;\n",
       "    }\n",
       "\n",
       "    .dataframe tbody tr th {\n",
       "        vertical-align: top;\n",
       "    }\n",
       "\n",
       "    .dataframe thead th {\n",
       "        text-align: right;\n",
       "    }\n",
       "</style>\n",
       "<table border=\"1\" class=\"dataframe\">\n",
       "  <thead>\n",
       "    <tr style=\"text-align: right;\">\n",
       "      <th></th>\n",
       "      <th>revenue</th>\n",
       "      <th>EFC</th>\n",
       "      <th>degraded_P_dis</th>\n",
       "      <th>degraded_P_chg</th>\n",
       "      <th>Relative Capacity</th>\n",
       "    </tr>\n",
       "    <tr>\n",
       "      <th>Datetime</th>\n",
       "      <th></th>\n",
       "      <th></th>\n",
       "      <th></th>\n",
       "      <th></th>\n",
       "      <th></th>\n",
       "    </tr>\n",
       "  </thead>\n",
       "  <tbody>\n",
       "    <tr>\n",
       "      <th>2025</th>\n",
       "      <td>36499.835032</td>\n",
       "      <td>987.840511</td>\n",
       "      <td>2.700045e+06</td>\n",
       "      <td>2.880069e+06</td>\n",
       "      <td>0.936484</td>\n",
       "    </tr>\n",
       "    <tr>\n",
       "      <th>2026</th>\n",
       "      <td>34675.334908</td>\n",
       "      <td>1924.665788</td>\n",
       "      <td>2.699620e+06</td>\n",
       "      <td>2.876516e+06</td>\n",
       "      <td>0.894311</td>\n",
       "    </tr>\n",
       "    <tr>\n",
       "      <th>2027</th>\n",
       "      <td>33196.183715</td>\n",
       "      <td>2822.533738</td>\n",
       "      <td>2.702864e+06</td>\n",
       "      <td>2.880831e+06</td>\n",
       "      <td>0.858383</td>\n",
       "    </tr>\n",
       "    <tr>\n",
       "      <th>2028</th>\n",
       "      <td>31938.234564</td>\n",
       "      <td>3688.381218</td>\n",
       "      <td>2.708140e+06</td>\n",
       "      <td>2.886680e+06</td>\n",
       "      <td>0.826324</td>\n",
       "    </tr>\n",
       "    <tr>\n",
       "      <th>2029</th>\n",
       "      <td>30726.211111</td>\n",
       "      <td>4520.533211</td>\n",
       "      <td>2.702602e+06</td>\n",
       "      <td>2.881258e+06</td>\n",
       "      <td>0.797276</td>\n",
       "    </tr>\n",
       "    <tr>\n",
       "      <th>2030</th>\n",
       "      <td>29674.387055</td>\n",
       "      <td>5323.915260</td>\n",
       "      <td>2.701583e+06</td>\n",
       "      <td>2.881539e+06</td>\n",
       "      <td>0.770531</td>\n",
       "    </tr>\n",
       "    <tr>\n",
       "      <th>2031</th>\n",
       "      <td>28721.188889</td>\n",
       "      <td>6101.923023</td>\n",
       "      <td>2.702886e+06</td>\n",
       "      <td>2.881347e+06</td>\n",
       "      <td>0.745636</td>\n",
       "    </tr>\n",
       "    <tr>\n",
       "      <th>2032</th>\n",
       "      <td>27833.357959</td>\n",
       "      <td>6856.967540</td>\n",
       "      <td>2.708298e+06</td>\n",
       "      <td>2.886996e+06</td>\n",
       "      <td>0.722300</td>\n",
       "    </tr>\n",
       "    <tr>\n",
       "      <th>2033</th>\n",
       "      <td>26955.667086</td>\n",
       "      <td>7586.179874</td>\n",
       "      <td>2.703145e+06</td>\n",
       "      <td>2.881344e+06</td>\n",
       "      <td>0.700443</td>\n",
       "    </tr>\n",
       "    <tr>\n",
       "      <th>2034</th>\n",
       "      <td>219.135154</td>\n",
       "      <td>7601.683008</td>\n",
       "      <td>4.549857e+04</td>\n",
       "      <td>4.657709e+04</td>\n",
       "      <td>0.699979</td>\n",
       "    </tr>\n",
       "  </tbody>\n",
       "</table>\n",
       "</div>"
      ],
      "text/plain": [
       "               revenue          EFC  degraded_P_dis  degraded_P_chg  \\\n",
       "Datetime                                                              \n",
       "2025      36499.835032   987.840511    2.700045e+06    2.880069e+06   \n",
       "2026      34675.334908  1924.665788    2.699620e+06    2.876516e+06   \n",
       "2027      33196.183715  2822.533738    2.702864e+06    2.880831e+06   \n",
       "2028      31938.234564  3688.381218    2.708140e+06    2.886680e+06   \n",
       "2029      30726.211111  4520.533211    2.702602e+06    2.881258e+06   \n",
       "2030      29674.387055  5323.915260    2.701583e+06    2.881539e+06   \n",
       "2031      28721.188889  6101.923023    2.702886e+06    2.881347e+06   \n",
       "2032      27833.357959  6856.967540    2.708298e+06    2.886996e+06   \n",
       "2033      26955.667086  7586.179874    2.703145e+06    2.881344e+06   \n",
       "2034        219.135154  7601.683008    4.549857e+04    4.657709e+04   \n",
       "\n",
       "          Relative Capacity  \n",
       "Datetime                     \n",
       "2025               0.936484  \n",
       "2026               0.894311  \n",
       "2027               0.858383  \n",
       "2028               0.826324  \n",
       "2029               0.797276  \n",
       "2030               0.770531  \n",
       "2031               0.745636  \n",
       "2032               0.722300  \n",
       "2033               0.700443  \n",
       "2034               0.699979  "
      ]
     },
     "execution_count": 30,
     "metadata": {},
     "output_type": "execute_result"
    }
   ],
   "source": [
    "yearly_results"
   ]
  },
  {
   "cell_type": "code",
   "execution_count": null,
   "id": "a531ef40",
   "metadata": {},
   "outputs": [],
   "source": [
    "from pathlib import Path\n",
    "from stages.collate_optimisations import extract_metadata\n",
    "import os\n",
    "import argparse\n",
    "from sched import scheduler\n",
    "import pandas as pd\n",
    "from pathlib import Path\n",
    "import re"
   ]
  },
  {
   "cell_type": "code",
   "execution_count": null,
   "id": "4476484e",
   "metadata": {},
   "outputs": [],
   "source": [
    "\n",
    "def extract_metadata(path: Path):\n",
    "    \"\"\"Extract location, min_soc, max_soc, and cooling status from folder name.\"\"\"\n",
    "    pattern = r\"(?P<location>[A-Za-z_]+)_min_soc=(?P<min>[\\d\\.]+)_max_soc=(?P<max>[\\d\\.]+).csv\"\n",
    "    match = re.search(pattern, path.name)\n",
    "    if not match:\n",
    "        return None\n",
    "    return {\n",
    "        \"location\": match.group(\"location\"),\n",
    "        \"min_soc\": float(match.group(\"min\")),\n",
    "        \"max_soc\": float(match.group(\"max\")),\n",
    "    }"
   ]
  },
  {
   "cell_type": "code",
   "execution_count": null,
   "id": "687fe526",
   "metadata": {},
   "outputs": [],
   "source": [
    "for file in Path(\"results/schedule\").glob(\"Brisbane_*.csv\"):\n",
    "    print(extract_metadata(file))"
   ]
  },
  {
   "cell_type": "code",
   "execution_count": null,
   "id": "a9f8e9a7",
   "metadata": {},
   "outputs": [],
   "source": [
    "pd.read_csv(\"/workspace/results/simulation/Brisbane_min_soc=0_max_soc=0.6_cooling_disabled=true/daily_results.csv\")"
   ]
  },
  {
   "cell_type": "code",
   "execution_count": null,
   "id": "f163e732",
   "metadata": {},
   "outputs": [],
   "source": [
    "schedule_list = []\n",
    "\n",
    "for file in Path(\"results/schedule\").glob(\"Brisbane_*.csv\"):\n",
    "    meta = extract_metadata(file)\n",
    "    if meta is None:\n",
    "        continue\n",
    "\n",
    "    schedule_df = pd.read_csv(file)\n",
    "    for k, v in meta.items():\n",
    "        schedule_df[k] = v\n",
    "    schedule_df[\"Name\"] = schedule_df.apply(lambda row: f\"{row[\"min_soc\"]}-{row[\"max_soc\"]}\", axis=1)\n",
    "    schedule_df[\"Datetime\"] = pd.Timestamp(\"2024-01-01 00:00:00\") + pd.to_timedelta(schedule_df[\"Time_s\"], unit=\"s\")\n",
    "\n",
    "    # results_list.append(results_df)\n",
    "    schedule_list.append(schedule_df.drop(columns=[\"Temperature_C\", \"location\"]))\n",
    "\n",
    "df = pd.concat(schedule_list, ignore_index=True)"
   ]
  },
  {
   "cell_type": "code",
   "execution_count": null,
   "id": "a8139e37",
   "metadata": {},
   "outputs": [],
   "source": [
    "df"
   ]
  },
  {
   "cell_type": "code",
   "execution_count": null,
   "id": "5671d904",
   "metadata": {},
   "outputs": [],
   "source": [
    "pd.read_csv(\"/workspace/results/simulation/Brisbane_min_soc=0_max_soc=0.6_cooling_disabled=false/summary.csv\")"
   ]
  },
  {
   "cell_type": "code",
   "execution_count": null,
   "id": "cddb8e81",
   "metadata": {},
   "outputs": [],
   "source": [
    "df = pd.read_csv(\"/workspace/results/simulation/Brisbane_min_soc=0_max_soc=0.6_cooling_disabled=false/results.csv\")"
   ]
  },
  {
   "cell_type": "code",
   "execution_count": null,
   "id": "72cab318",
   "metadata": {},
   "outputs": [],
   "source": [
    "dt = 5/60"
   ]
  },
  {
   "cell_type": "code",
   "execution_count": null,
   "id": "e94e517e",
   "metadata": {},
   "outputs": [],
   "source": []
  },
  {
   "cell_type": "code",
   "execution_count": null,
   "metadata": {},
   "outputs": [],
   "source": [
    "df_disp"
   ]
  },
  {
   "cell_type": "code",
   "execution_count": null,
   "id": "95d3e89a",
   "metadata": {},
   "outputs": [],
   "source": [
    "batt.outputs['q_EFC'][-10:]"
   ]
  },
  {
   "cell_type": "code",
   "execution_count": null,
   "id": "98954842",
   "metadata": {},
   "outputs": [],
   "source": [
    "battery.stressors[\"soc\"][:10]"
   ]
  },
  {
   "cell_type": "code",
   "execution_count": null,
   "id": "3175d78f",
   "metadata": {},
   "outputs": [],
   "source": [
    "battery.stressors[\"dod\"][:10]"
   ]
  },
  {
   "cell_type": "code",
   "execution_count": null,
   "id": "5e15c1bd",
   "metadata": {},
   "outputs": [],
   "source": [
    "from stages.pixii_blast import simulate_battery"
   ]
  },
  {
   "cell_type": "code",
   "execution_count": null,
   "id": "f515edd5",
   "metadata": {},
   "outputs": [],
   "source": [
    "data = utils.generate_sample_data()"
   ]
  },
  {
   "cell_type": "code",
   "execution_count": null,
   "id": "60d870da",
   "metadata": {},
   "outputs": [],
   "source": [
    "data"
   ]
  },
  {
   "cell_type": "code",
   "execution_count": null,
   "id": "b9e4525e",
   "metadata": {},
   "outputs": [],
   "source": [
    "\n",
    "models.available_models()"
   ]
  },
  {
   "cell_type": "code",
   "execution_count": null,
   "id": "2feecbb9",
   "metadata": {},
   "outputs": [],
   "source": [
    "    params = pybamm.ParameterValues(\"Marquis2019\")\n",
    "    params.update({\n",
    "        \"Nominal cell capacity [A.h]\": BLOCK_AH,  # from datasheet\n",
    "        \"Number of cells connected in series to make a battery\": N_SERIES,     # per module\n",
    "        \"Upper voltage cut-off [V]\": 3.65 * N_SERIES,  # 58.4 V per block\n",
    "        \"Lower voltage cut-off [V]\": 2.8 * 16,   # 44.8 V per block\n",
    "        \"Ambient temperature [K]\": ambient_temp_func,\n",
    "    })"
   ]
  },
  {
   "cell_type": "code",
   "execution_count": null,
   "id": "b9e98dce",
   "metadata": {},
   "outputs": [],
   "source": [
    "tmy = pd.read_csv(\"data/tmy/Brisbane.csv\", index_col=\"Datetime\")\n",
    "tmy.index= pd.to_datetime(tmy.index)"
   ]
  },
  {
   "cell_type": "code",
   "execution_count": null,
   "id": "05bb309b",
   "metadata": {},
   "outputs": [],
   "source": [
    "tmy.index"
   ]
  },
  {
   "cell_type": "code",
   "execution_count": null,
   "id": "b60ab1e5",
   "metadata": {},
   "outputs": [],
   "source": [
    "tmy"
   ]
  },
  {
   "cell_type": "code",
   "execution_count": null,
   "id": "c155dc3c",
   "metadata": {},
   "outputs": [],
   "source": [
    "start_time = '2025/09/22 20:00:00'\n",
    "end_time = '2025/09/22 21:00:00'\n",
    "table = 'DISPATCHPRICE'\n",
    "raw_data_cache = 'cache'\n",
    "\n",
    "price_data = dynamic_data_compiler(start_time, end_time, table, raw_data_cache, filter_cols=[\"REGIONID\"], filter_values=[[\"QLD1\"]])\n"
   ]
  },
  {
   "cell_type": "code",
   "execution_count": null,
   "id": "3a0de88a",
   "metadata": {},
   "outputs": [],
   "source": [
    "tmy_df.index.seconds"
   ]
  },
  {
   "cell_type": "code",
   "execution_count": null,
   "id": "20465375",
   "metadata": {},
   "outputs": [],
   "source": [
    "pybamm.Interpolant(tmy.index.seconds, temp_K, pybamm.t), merged_temp"
   ]
  },
  {
   "cell_type": "code",
   "execution_count": null,
   "id": "14b72a24",
   "metadata": {},
   "outputs": [],
   "source": [
    "price_data[['SETTLEMENTDATE', \"REGIONID\", \"RRP\"]]"
   ]
  },
  {
   "cell_type": "code",
   "execution_count": null,
   "id": "b6d33621",
   "metadata": {},
   "outputs": [],
   "source": []
  },
  {
   "cell_type": "code",
   "execution_count": null,
   "id": "e6c1a37f",
   "metadata": {},
   "outputs": [],
   "source": [
    "model.default_parameter_values.keys()"
   ]
  },
  {
   "cell_type": "code",
   "execution_count": null,
   "id": "0001735d",
   "metadata": {},
   "outputs": [],
   "source": [
    "import pandas as pd\n",
    "import numpy as np\n",
    "from scipy.interpolate import interp1d\n",
    "\n",
    "def build_temperature_function(tmy_df: str, price_df: pd.DataFrame):\n",
    "    \"\"\"\n",
    "    Build an interpolated ambient temperature function aligned with the dispatch data.\n",
    "\n",
    "    Args:\n",
    "        tmy_df: DataFrame containing TMY data for a arbitrary year.\n",
    "        price_df: DataFrame containing the dispatch prices with datetime index (5 min intervals).\n",
    "\n",
    "    Returns:\n",
    "        temp_func: callable(t) returning temperature [K]\n",
    "        temp_series: pandas Series of interpolated temperature [°C] aligned with price_df index\n",
    "    \"\"\"\n",
    "\n",
    "    tmy_df = tmy_df.copy()\n",
    "    # Normalize to a synthetic \"year\" (day-of-year & hour pattern)\n",
    "    tmy_df[\"DOY\"] = tmy_df.index.dayofyear\n",
    "    tmy_df[\"TOD\"] = tmy_df.index.hour + tmy_df.index.minute / 60.0\n",
    "\n",
    "    # --- 2. Build the corresponding DOY/TOD for the dispatch timestamps\n",
    "    price_df = price_df.copy()\n",
    "    price_df[\"DOY\"] = price_df.index.dayofyear\n",
    "    price_df[\"TOD\"] = price_df.index.hour + price_df.index.minute / 60.0\n",
    "\n",
    "    # Merge based on DOY/TOD pattern\n",
    "    # tmy_daily = tmy_df.set_index([\"DOY\", \"TOD\"])\n",
    "    # merged_temp = (\n",
    "    #     price_df.set_index([\"DOY\", \"TOD\"])\n",
    "    #     .join(tmy_daily[\"temp_air\"], on=[\"DOY\", \"TOD\"], how=\"left\")\n",
    "    #     .interpolate(m)\n",
    "\n",
    "    # --- Merge pattern data ---\n",
    "    tmy_daily = tmy_df.set_index([\"DOY\", \"TOD\"])\n",
    "    price_pattern = price_df.copy()\n",
    "    price_pattern[\"DOY\"] = price_pattern.index.dayofyear\n",
    "    price_pattern[\"TOD\"] = price_pattern.index.hour + price_pattern.index.minute / 60.0\n",
    "\n",
    "    merged_temp = (\n",
    "        price_pattern.set_index([\"DOY\", \"TOD\"])\n",
    "        .join(tmy_daily[\"temp_air\"], on=[\"DOY\", \"TOD\"], how=\"left\")\n",
    "        .interpolate(method=\"linear\", limit_direction=\"both\")\n",
    "    )\n",
    "\n",
    "    # --- Force reindex to original datetime index ---\n",
    "    merged_temp = merged_temp.reindex(price_df.index, method=\"nearest\")\n",
    "    # --- 3. Convert to Kelvin and interpolate over time (seconds)\n",
    "    t_seconds = (merged_temp.index.view(np.int64) / 1e9).to_numpy()\n",
    "    T_kelvin = merged_temp[\"temp_air\"].to_numpy() + 273.15\n",
    "\n",
    "    temp_interp = interp1d(t_seconds, T_kelvin, kind=\"linear\", fill_value=\"extrapolate\")\n",
    "\n",
    "    def ambient_temp(t):\n",
    "        \"\"\"Return temperature in Kelvin at time t [seconds].\"\"\"\n",
    "        return float(temp_interp(t))\n",
    "\n",
    "    return ambient_temp, merged_temp[\"temperature_C\"]"
   ]
  },
  {
   "cell_type": "code",
   "execution_count": null,
   "id": "4feabf4a",
   "metadata": {},
   "outputs": [],
   "source": [
    "def build_temperature_function(tmy_df, price_df):\n",
    "    \"\"\"\n",
    "    Align hourly TMY temperature (and optionally humidity) with 5-min price data\n",
    "    and return smooth interpolation functions in Kelvin.\n",
    "    \"\"\"\n",
    "\n",
    "    # --- 1. Prepare and clean TMY ---\n",
    "    tmy_df = tmy_df.copy()\n",
    "    tmy_df.index = pd.to_datetime(tmy_df.index)\n",
    "    tmy_df[\"DOY\"] = tmy_df.index.dayofyear\n",
    "    tmy_df[\"TOD\"] = tmy_df.index.hour + tmy_df.index.minute / 60.0\n",
    "    tmy_df.rename(columns={\"temp_air\": \"temperature_C\"}, inplace=True)\n",
    "\n",
    "    # --- 2. Build daily/hour pattern from TMY ---\n",
    "    tmy_daily = tmy_df.set_index([\"DOY\", \"TOD\"])\n",
    "\n",
    "    # --- 3. Extract day/time-of-day pattern for price timestamps ---\n",
    "    price_pattern = price_df.copy()\n",
    "    price_pattern[\"DOY\"] = price_pattern.index.dayofyear\n",
    "    price_pattern[\"TOD\"] = price_pattern.index.hour + price_pattern.index.minute / 60.0\n",
    "\n",
    "    # --- 4. Join TMY data ---\n",
    "    merged_temp = (\n",
    "        price_pattern.set_index([\"DOY\", \"TOD\"])\n",
    "        .join(tmy_daily[[\"temperature_C\"]], on=[\"DOY\", \"TOD\"], how=\"left\")\n",
    "        .interpolate(method=\"linear\", limit_direction=\"both\")\n",
    "        .reset_index(drop=True)\n",
    "    )\n",
    "\n",
    "    # --- 5. Align with price_df index ---\n",
    "    merged_temp.index = price_df.index  # now safe; same length & order\n",
    "\n",
    "    # --- 6. Convert to Kelvin & build interpolators ---\n",
    "    t_seconds = merged_temp.index.view(np.int64) / 1e9\n",
    "    temp_K = merged_temp[\"temperature_C\"].to_numpy() + 273.15\n",
    "\n",
    "    # --- 7. Interpolating functions (Kelvin & relative humidity %) ---\n",
    "    def ambient_temp(t):\n",
    "        \"\"\"Return ambient temperature (K) given timestamp in seconds\"\"\"\n",
    "        return np.interp(t, t_seconds, temp_K, left=temp_K[0], right=temp_K[-1])\n",
    "\n",
    "    print(f\"✓ Aligned TMY with {len(price_df)} dispatch intervals.\")\n",
    "    print(f\"Temperature range: {merged_temp['temperature_C'].min():.1f}–{merged_temp['temperature_C'].max():.1f} °C\")\n",
    "\n",
    "    return ambient_temp, merged_temp"
   ]
  },
  {
   "cell_type": "code",
   "execution_count": null,
   "id": "5556e890",
   "metadata": {},
   "outputs": [],
   "source": [
    "ambient_temp(2)"
   ]
  },
  {
   "cell_type": "code",
   "execution_count": null,
   "id": "a4204991",
   "metadata": {},
   "outputs": [],
   "source": [
    "aest_tz = pytz.timezone(\"Australia/Brisbane\")\n",
    "\n",
    "tmy_df = pd.read_csv(\"data/tmy/Brisbane.csv\", parse_dates=[\"time(UTC)\"])\n",
    "tmy_df = tmy_df.rename(columns={\"time(UTC)\": \"Datetime\"})\n",
    "\n",
    "tmy_df = tmy_df.set_index(\"Datetime\")\n",
    "\n",
    "# 2. Convert to AEST\n",
    "tmy_df = tmy_df.tz_convert(aest_tz)\n",
    "\n",
    "# 3. Price data should already be in AEST, so no conversion needed\n",
    "price_df = pd.read_csv(\"data/dispatch/dispatch.csv\", parse_dates=[\"SETTLEMENTDATE\"])\n",
    "price_df = price_df.set_index(\"SETTLEMENTDATE\").sort_index()\n",
    "price_df = price_df.tz_localize(aest_tz)"
   ]
  },
  {
   "cell_type": "code",
   "execution_count": null,
   "id": "6129dddd",
   "metadata": {},
   "outputs": [],
   "source": [
    "\n"
   ]
  },
  {
   "cell_type": "code",
   "execution_count": null,
   "id": "8a54dd2b",
   "metadata": {},
   "outputs": [],
   "source": [
    "ambient_temp, merged_temp = build_temperature_function(tmy_df, price_df)"
   ]
  },
  {
   "cell_type": "code",
   "execution_count": null,
   "id": "041fb7db",
   "metadata": {},
   "outputs": [],
   "source": [
    "merged_temp"
   ]
  },
  {
   "cell_type": "code",
   "execution_count": null,
   "id": "7b0af2d2",
   "metadata": {},
   "outputs": [],
   "source": [
    "price_data['SETTLEMENTDATE'] = pd.to_datetime(price_data[\"SETTLEMENTDATE\"])\n",
    "price_data = price_data.set_index(\"SETTLEMENTDATE\")"
   ]
  },
  {
   "cell_type": "code",
   "execution_count": null,
   "id": "4054e034",
   "metadata": {},
   "outputs": [],
   "source": [
    "price_data.to_csv(\"dispatch_price.csv\", index=True)"
   ]
  },
  {
   "cell_type": "code",
   "execution_count": null,
   "id": "ae33e132",
   "metadata": {},
   "outputs": [],
   "source": [
    "price_data[\"RRP\"].iloc[0]"
   ]
  },
  {
   "cell_type": "code",
   "execution_count": null,
   "id": "4cdef98c",
   "metadata": {},
   "outputs": [],
   "source": [
    "battery_capacity = 202600\n",
    "P_max = 60000\n",
    "efficiency = 0.969\n",
    "max_doc = 0.1\n",
    "max_hoc = 1\n",
    "dt = 5/60"
   ]
  },
  {
   "cell_type": "code",
   "execution_count": null,
   "id": "ca979e51",
   "metadata": {},
   "outputs": [],
   "source": [
    "model = g"
   ]
  },
  {
   "cell_type": "code",
   "execution_count": null,
   "id": "3154dc10",
   "metadata": {},
   "outputs": [],
   "source": [
    "models = [\n",
    "    pybamm.lithium_ion.SPM(),\n",
    "    pybamm.lithium_ion.SPMe(),\n",
    "    pybamm.lithium_ion.DFN(),\n",
    "]"
   ]
  },
  {
   "cell_type": "code",
   "execution_count": null,
   "id": "5349ac1d",
   "metadata": {},
   "outputs": [],
   "source": [
    "sims = []\n",
    "for model in models:\n",
    "    sim = pybamm.Simulation(model)\n",
    "    sim.solve([0, 3600])\n",
    "    sims.append(sim)"
   ]
  },
  {
   "cell_type": "code",
   "execution_count": null,
   "id": "b071c9b9",
   "metadata": {},
   "outputs": [],
   "source": [
    "import pvlib, pytz"
   ]
  },
  {
   "cell_type": "code",
   "execution_count": null,
   "id": "2440b647",
   "metadata": {},
   "outputs": [],
   "source": [
    "lc = pvlib.location.Location(latitude=-27.4705, longitude=153.0260)\n",
    "aest_tz = pytz.timezone(\"Australia/Brisbane\")\n",
    "\n",
    "tmy_df, _ = pvlib.iotools.get_pvgis_tmy(-27.4705, 153.0260)\n",
    "tmy_df.index = tmy_df.index.tz_convert(aest_tz)"
   ]
  },
  {
   "cell_type": "code",
   "execution_count": null,
   "id": "f64461a8",
   "metadata": {},
   "outputs": [],
   "source": [
    "tmy_df.groupby(tmy_df.index.hour).mean()['relative_humidity'].plot.line()"
   ]
  }
 ],
 "metadata": {
  "kernelspec": {
   "display_name": "Python 3",
   "language": "python",
   "name": "python3"
  },
  "language_info": {
   "codemirror_mode": {
    "name": "ipython",
    "version": 3
   },
   "file_extension": ".py",
   "mimetype": "text/x-python",
   "name": "python",
   "nbconvert_exporter": "python",
   "pygments_lexer": "ipython3",
   "version": "3.12.1"
  }
 },
 "nbformat": 4,
 "nbformat_minor": 5
}
