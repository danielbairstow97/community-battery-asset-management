{
 "cells": [
  {
   "cell_type": "code",
   "execution_count": 5,
   "id": "b7c3c7dd",
   "metadata": {},
   "outputs": [],
   "source": [
    "import numpy as np\n",
    "import pybamm\n",
    "import gurobipy as gp\n",
    "import pandas as pd\n",
    "\n",
    "from nemosis import dynamic_data_compiler\n"
   ]
  },
  {
   "cell_type": "code",
   "execution_count": 13,
   "id": "c155dc3c",
   "metadata": {},
   "outputs": [
    {
     "name": "stdout",
     "output_type": "stream",
     "text": [
      "INFO: Compiling data for table DISPATCHPRICE\n"
     ]
    },
    {
     "name": "stdout",
     "output_type": "stream",
     "text": [
      "INFO: Returning DISPATCHPRICE.\n"
     ]
    }
   ],
   "source": [
    "start_time = '2024/06/01 00:00:00'\n",
    "end_time = '2025/06/01 00:00:00'\n",
    "table = 'DISPATCHPRICE'\n",
    "raw_data_cache = 'cache'\n",
    "\n",
    "price_data = dynamic_data_compiler(start_time, end_time, table, raw_data_cache, filter_cols=[\"REGIONID\"], filter_values=[[\"QLD1\"]])\n"
   ]
  },
  {
   "cell_type": "code",
   "execution_count": 14,
   "id": "14b72a24",
   "metadata": {},
   "outputs": [
    {
     "data": {
      "text/html": [
       "<div>\n",
       "<style scoped>\n",
       "    .dataframe tbody tr th:only-of-type {\n",
       "        vertical-align: middle;\n",
       "    }\n",
       "\n",
       "    .dataframe tbody tr th {\n",
       "        vertical-align: top;\n",
       "    }\n",
       "\n",
       "    .dataframe thead th {\n",
       "        text-align: right;\n",
       "    }\n",
       "</style>\n",
       "<table border=\"1\" class=\"dataframe\">\n",
       "  <thead>\n",
       "    <tr style=\"text-align: right;\">\n",
       "      <th></th>\n",
       "      <th>SETTLEMENTDATE</th>\n",
       "      <th>REGIONID</th>\n",
       "      <th>INTERVENTION</th>\n",
       "      <th>RRP</th>\n",
       "      <th>RAISE6SECRRP</th>\n",
       "      <th>RAISE60SECRRP</th>\n",
       "      <th>RAISE5MINRRP</th>\n",
       "      <th>RAISEREGRRP</th>\n",
       "      <th>LOWER6SECRRP</th>\n",
       "      <th>LOWER60SECRRP</th>\n",
       "      <th>LOWER5MINRRP</th>\n",
       "      <th>LOWERREGRRP</th>\n",
       "      <th>PRICE_STATUS</th>\n",
       "    </tr>\n",
       "  </thead>\n",
       "  <tbody>\n",
       "    <tr>\n",
       "      <th>1</th>\n",
       "      <td>2024-06-01 00:05:00</td>\n",
       "      <td>QLD1</td>\n",
       "      <td>0</td>\n",
       "      <td>173.00503</td>\n",
       "      <td>0.86</td>\n",
       "      <td>0.79</td>\n",
       "      <td>0.39</td>\n",
       "      <td>7.7300</td>\n",
       "      <td>0.00</td>\n",
       "      <td>0.07</td>\n",
       "      <td>0.01</td>\n",
       "      <td>1.50</td>\n",
       "      <td>FIRM</td>\n",
       "    </tr>\n",
       "    <tr>\n",
       "      <th>6</th>\n",
       "      <td>2024-06-01 00:10:00</td>\n",
       "      <td>QLD1</td>\n",
       "      <td>0</td>\n",
       "      <td>148.26320</td>\n",
       "      <td>7.32</td>\n",
       "      <td>2.14</td>\n",
       "      <td>0.71</td>\n",
       "      <td>3.3800</td>\n",
       "      <td>0.14</td>\n",
       "      <td>0.38</td>\n",
       "      <td>0.08</td>\n",
       "      <td>0.08</td>\n",
       "      <td>FIRM</td>\n",
       "    </tr>\n",
       "    <tr>\n",
       "      <th>11</th>\n",
       "      <td>2024-06-01 00:15:00</td>\n",
       "      <td>QLD1</td>\n",
       "      <td>0</td>\n",
       "      <td>155.77123</td>\n",
       "      <td>1.84</td>\n",
       "      <td>0.86</td>\n",
       "      <td>0.39</td>\n",
       "      <td>5.5641</td>\n",
       "      <td>0.03</td>\n",
       "      <td>0.15</td>\n",
       "      <td>0.01</td>\n",
       "      <td>3.62</td>\n",
       "      <td>FIRM</td>\n",
       "    </tr>\n",
       "    <tr>\n",
       "      <th>16</th>\n",
       "      <td>2024-06-01 00:20:00</td>\n",
       "      <td>QLD1</td>\n",
       "      <td>0</td>\n",
       "      <td>159.49941</td>\n",
       "      <td>1.84</td>\n",
       "      <td>0.86</td>\n",
       "      <td>0.39</td>\n",
       "      <td>3.3800</td>\n",
       "      <td>0.01</td>\n",
       "      <td>0.15</td>\n",
       "      <td>0.08</td>\n",
       "      <td>1.12</td>\n",
       "      <td>FIRM</td>\n",
       "    </tr>\n",
       "    <tr>\n",
       "      <th>21</th>\n",
       "      <td>2024-06-01 00:25:00</td>\n",
       "      <td>QLD1</td>\n",
       "      <td>0</td>\n",
       "      <td>173.00368</td>\n",
       "      <td>1.48</td>\n",
       "      <td>0.72</td>\n",
       "      <td>0.39</td>\n",
       "      <td>6.0000</td>\n",
       "      <td>0.01</td>\n",
       "      <td>0.15</td>\n",
       "      <td>0.01</td>\n",
       "      <td>3.61</td>\n",
       "      <td>FIRM</td>\n",
       "    </tr>\n",
       "    <tr>\n",
       "      <th>...</th>\n",
       "      <td>...</td>\n",
       "      <td>...</td>\n",
       "      <td>...</td>\n",
       "      <td>...</td>\n",
       "      <td>...</td>\n",
       "      <td>...</td>\n",
       "      <td>...</td>\n",
       "      <td>...</td>\n",
       "      <td>...</td>\n",
       "      <td>...</td>\n",
       "      <td>...</td>\n",
       "      <td>...</td>\n",
       "      <td>...</td>\n",
       "    </tr>\n",
       "    <tr>\n",
       "      <th>44617</th>\n",
       "      <td>2025-05-31 23:40:00</td>\n",
       "      <td>QLD1</td>\n",
       "      <td>0</td>\n",
       "      <td>133.30708</td>\n",
       "      <td>0.38</td>\n",
       "      <td>0.23</td>\n",
       "      <td>0.24</td>\n",
       "      <td>5.0000</td>\n",
       "      <td>0.10</td>\n",
       "      <td>0.38</td>\n",
       "      <td>0.00</td>\n",
       "      <td>0.00</td>\n",
       "      <td>FIRM</td>\n",
       "    </tr>\n",
       "    <tr>\n",
       "      <th>44621</th>\n",
       "      <td>2025-05-31 23:45:00</td>\n",
       "      <td>QLD1</td>\n",
       "      <td>0</td>\n",
       "      <td>134.91113</td>\n",
       "      <td>0.38</td>\n",
       "      <td>0.15</td>\n",
       "      <td>0.09</td>\n",
       "      <td>0.0900</td>\n",
       "      <td>0.10</td>\n",
       "      <td>0.38</td>\n",
       "      <td>0.04</td>\n",
       "      <td>1.00</td>\n",
       "      <td>FIRM</td>\n",
       "    </tr>\n",
       "    <tr>\n",
       "      <th>44626</th>\n",
       "      <td>2025-05-31 23:50:00</td>\n",
       "      <td>QLD1</td>\n",
       "      <td>0</td>\n",
       "      <td>129.45000</td>\n",
       "      <td>0.38</td>\n",
       "      <td>0.36</td>\n",
       "      <td>0.36</td>\n",
       "      <td>5.4600</td>\n",
       "      <td>0.10</td>\n",
       "      <td>0.38</td>\n",
       "      <td>0.10</td>\n",
       "      <td>4.94</td>\n",
       "      <td>FIRM</td>\n",
       "    </tr>\n",
       "    <tr>\n",
       "      <th>44631</th>\n",
       "      <td>2025-05-31 23:55:00</td>\n",
       "      <td>QLD1</td>\n",
       "      <td>0</td>\n",
       "      <td>123.51577</td>\n",
       "      <td>0.38</td>\n",
       "      <td>0.15</td>\n",
       "      <td>0.10</td>\n",
       "      <td>0.1000</td>\n",
       "      <td>0.10</td>\n",
       "      <td>0.38</td>\n",
       "      <td>0.04</td>\n",
       "      <td>4.96</td>\n",
       "      <td>FIRM</td>\n",
       "    </tr>\n",
       "    <tr>\n",
       "      <th>44636</th>\n",
       "      <td>2025-06-01 00:00:00</td>\n",
       "      <td>QLD1</td>\n",
       "      <td>0</td>\n",
       "      <td>126.04751</td>\n",
       "      <td>0.37</td>\n",
       "      <td>0.10</td>\n",
       "      <td>0.04</td>\n",
       "      <td>0.0400</td>\n",
       "      <td>0.10</td>\n",
       "      <td>0.38</td>\n",
       "      <td>0.10</td>\n",
       "      <td>7.65</td>\n",
       "      <td>FIRM</td>\n",
       "    </tr>\n",
       "  </tbody>\n",
       "</table>\n",
       "<p>105132 rows × 13 columns</p>\n",
       "</div>"
      ],
      "text/plain": [
       "           SETTLEMENTDATE REGIONID  INTERVENTION        RRP  RAISE6SECRRP  \\\n",
       "1     2024-06-01 00:05:00     QLD1             0  173.00503          0.86   \n",
       "6     2024-06-01 00:10:00     QLD1             0  148.26320          7.32   \n",
       "11    2024-06-01 00:15:00     QLD1             0  155.77123          1.84   \n",
       "16    2024-06-01 00:20:00     QLD1             0  159.49941          1.84   \n",
       "21    2024-06-01 00:25:00     QLD1             0  173.00368          1.48   \n",
       "...                   ...      ...           ...        ...           ...   \n",
       "44617 2025-05-31 23:40:00     QLD1             0  133.30708          0.38   \n",
       "44621 2025-05-31 23:45:00     QLD1             0  134.91113          0.38   \n",
       "44626 2025-05-31 23:50:00     QLD1             0  129.45000          0.38   \n",
       "44631 2025-05-31 23:55:00     QLD1             0  123.51577          0.38   \n",
       "44636 2025-06-01 00:00:00     QLD1             0  126.04751          0.37   \n",
       "\n",
       "       RAISE60SECRRP  RAISE5MINRRP  RAISEREGRRP  LOWER6SECRRP  LOWER60SECRRP  \\\n",
       "1               0.79          0.39       7.7300          0.00           0.07   \n",
       "6               2.14          0.71       3.3800          0.14           0.38   \n",
       "11              0.86          0.39       5.5641          0.03           0.15   \n",
       "16              0.86          0.39       3.3800          0.01           0.15   \n",
       "21              0.72          0.39       6.0000          0.01           0.15   \n",
       "...              ...           ...          ...           ...            ...   \n",
       "44617           0.23          0.24       5.0000          0.10           0.38   \n",
       "44621           0.15          0.09       0.0900          0.10           0.38   \n",
       "44626           0.36          0.36       5.4600          0.10           0.38   \n",
       "44631           0.15          0.10       0.1000          0.10           0.38   \n",
       "44636           0.10          0.04       0.0400          0.10           0.38   \n",
       "\n",
       "       LOWER5MINRRP  LOWERREGRRP PRICE_STATUS  \n",
       "1              0.01         1.50         FIRM  \n",
       "6              0.08         0.08         FIRM  \n",
       "11             0.01         3.62         FIRM  \n",
       "16             0.08         1.12         FIRM  \n",
       "21             0.01         3.61         FIRM  \n",
       "...             ...          ...          ...  \n",
       "44617          0.00         0.00         FIRM  \n",
       "44621          0.04         1.00         FIRM  \n",
       "44626          0.10         4.94         FIRM  \n",
       "44631          0.04         4.96         FIRM  \n",
       "44636          0.10         7.65         FIRM  \n",
       "\n",
       "[105132 rows x 13 columns]"
      ]
     },
     "execution_count": 14,
     "metadata": {},
     "output_type": "execute_result"
    }
   ],
   "source": [
    "price_data"
   ]
  },
  {
   "cell_type": "code",
   "execution_count": 7,
   "id": "7b0af2d2",
   "metadata": {},
   "outputs": [],
   "source": [
    "price_data['SETTLEMENTDATE'] = pd.to_datetime(price_data[\"SETTLEMENTDATE\"])\n",
    "price_data = price_data.set_index(\"SETTLEMENTDATE\")"
   ]
  },
  {
   "cell_type": "code",
   "execution_count": 31,
   "id": "4054e034",
   "metadata": {},
   "outputs": [],
   "source": [
    "price_data.to_csv(\"dispatch_price.csv\", index=True)"
   ]
  },
  {
   "cell_type": "code",
   "execution_count": 34,
   "id": "ae33e132",
   "metadata": {},
   "outputs": [
    {
     "data": {
      "text/plain": [
       "173.00503"
      ]
     },
     "execution_count": 34,
     "metadata": {},
     "output_type": "execute_result"
    }
   ],
   "source": [
    "price_data[\"RRP\"].iloc[0]"
   ]
  },
  {
   "cell_type": "code",
   "execution_count": null,
   "id": "4cdef98c",
   "metadata": {},
   "outputs": [],
   "source": [
    "battery_capacity = 202600\n",
    "P_max = 60000\n",
    "efficiency = 0.969\n",
    "max_doc = 0.1\n",
    "max_hoc = 1\n",
    "dt = 5/60"
   ]
  },
  {
   "cell_type": "code",
   "execution_count": null,
   "id": "ca979e51",
   "metadata": {},
   "outputs": [],
   "source": [
    "model = g"
   ]
  },
  {
   "cell_type": "code",
   "execution_count": null,
   "id": "3154dc10",
   "metadata": {},
   "outputs": [],
   "source": [
    "models = [\n",
    "    pybamm.lithium_ion.SPM(),\n",
    "    pybamm.lithium_ion.SPMe(),\n",
    "    pybamm.lithium_ion.DFN(),\n",
    "]"
   ]
  },
  {
   "cell_type": "code",
   "execution_count": null,
   "id": "5349ac1d",
   "metadata": {},
   "outputs": [
    {
     "name": "stderr",
     "output_type": "stream",
     "text": [
      "/usr/local/lib/python3.12/site-packages/pybamm/simulation.py:122: UserWarning: The default solver changed to IDAKLUSolver after the v25.4.0. release. You can swap back to the previous default by using `pybamm.CasadiSolver()` instead.\n",
      "  self._solver = solver or self._model.default_solver\n"
     ]
    }
   ],
   "source": [
    "sims = []\n",
    "for model in models:\n",
    "    sim = pybamm.Simulation(model)\n",
    "    sim.solve([0, 3600])\n",
    "    sims.append(sim)"
   ]
  },
  {
   "cell_type": "code",
   "execution_count": 16,
   "id": "b071c9b9",
   "metadata": {},
   "outputs": [],
   "source": [
    "import pvlib, pytz"
   ]
  },
  {
   "cell_type": "code",
   "execution_count": 17,
   "id": "2440b647",
   "metadata": {},
   "outputs": [],
   "source": [
    "lc = pvlib.location.Location(latitude=-27.4705, longitude=153.0260)\n",
    "aest_tz = pytz.timezone(\"Australia/Brisbane\")\n",
    "\n",
    "tmy_df, _ = pvlib.iotools.get_pvgis_tmy(-27.4705, 153.0260)\n",
    "tmy_df.index = tmy_df.index.tz_convert(aest_tz)"
   ]
  },
  {
   "cell_type": "code",
   "execution_count": 29,
   "id": "f64461a8",
   "metadata": {},
   "outputs": [
    {
     "data": {
      "text/plain": [
       "<Axes: xlabel='time(UTC)'>"
      ]
     },
     "execution_count": 29,
     "metadata": {},
     "output_type": "execute_result"
    },
    {
     "data": {
      "image/png": "[encoded data removed]",
      "text/plain": [
       "<Figure size 640x480 with 1 Axes>"
      ]
     },
     "metadata": {},
     "output_type": "display_data"
    }
   ],
   "source": [
    "tmy_df.groupby(tmy_df.index.hour).mean()['relative_humidity'].plot.line()"
   ]
  }
 ],
 "metadata": {
  "kernelspec": {
   "display_name": "Python 3",
   "language": "python",
   "name": "python3"
  },
  "language_info": {
   "codemirror_mode": {
    "name": "ipython",
    "version": 3
   },
   "file_extension": ".py",
   "mimetype": "text/x-python",
   "name": "python",
   "nbconvert_exporter": "python",
   "pygments_lexer": "ipython3",
   "version": "3.12.1"
  }
 },
 "nbformat": 4,
 "nbformat_minor": 5
}
